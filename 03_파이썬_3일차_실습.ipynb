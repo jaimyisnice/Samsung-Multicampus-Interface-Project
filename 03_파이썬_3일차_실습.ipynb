{
  "nbformat": 4,
  "nbformat_minor": 0,
  "metadata": {
    "colab": {
      "provenance": [],
      "authorship_tag": "ABX9TyN70UUjS5Vx6DTdNhKimCou",
      "include_colab_link": true
    },
    "kernelspec": {
      "name": "python3",
      "display_name": "Python 3"
    },
    "language_info": {
      "name": "python"
    }
  },
  "cells": [
    {
      "cell_type": "markdown",
      "metadata": {
        "id": "view-in-github",
        "colab_type": "text"
      },
      "source": [
        "<a href=\"https://colab.research.google.com/github/jaimyisnice/Samsung-Multicampus-Interface-Project/blob/master/03_%ED%8C%8C%EC%9D%B4%EC%8D%AC_3%EC%9D%BC%EC%B0%A8_%EC%8B%A4%EC%8A%B5.ipynb\" target=\"_parent\"><img src=\"https://colab.research.google.com/assets/colab-badge.svg\" alt=\"Open In Colab\"/></a>"
      ]
    },
    {
      "cell_type": "markdown",
      "source": [
        "###합계 구하는 반복문"
      ],
      "metadata": {
        "id": "4NOMDT1FC_le"
      }
    },
    {
      "cell_type": "code",
      "execution_count": null,
      "metadata": {
        "colab": {
          "base_uri": "https://localhost:8080/"
        },
        "id": "mxHA2yXBAUfL",
        "outputId": "2f0baeb4-d04a-405e-ec7e-7132f9446880"
      },
      "outputs": [
        {
          "output_type": "stream",
          "name": "stdout",
          "text": [
            "1에서 10까지의 합꼐 : 55\n"
          ]
        }
      ],
      "source": [
        "hap = 1 + 2 + 3 + 4 + 5 + 6 + 7 + 8 + 9 + 10\n",
        "print(\"1에서 10까지의 합꼐 : %d\" % hap)"
      ]
    },
    {
      "cell_type": "code",
      "source": [
        "hap = 0\n",
        "for i in range(1, 101, 1):\n",
        "  hap += i\n",
        "  print(f'1~100까지 정수의 합은: {hap}')\n"
      ],
      "metadata": {
        "colab": {
          "base_uri": "https://localhost:8080/"
        },
        "id": "cgotZj_cBBYa",
        "outputId": "e82e8024-b93b-47e0-9721-8766ea0c9529"
      },
      "execution_count": null,
      "outputs": [
        {
          "output_type": "stream",
          "name": "stdout",
          "text": [
            "1~100까지 정수의 합은: 1\n",
            "1~100까지 정수의 합은: 3\n",
            "1~100까지 정수의 합은: 6\n",
            "1~100까지 정수의 합은: 10\n",
            "1~100까지 정수의 합은: 15\n",
            "1~100까지 정수의 합은: 21\n",
            "1~100까지 정수의 합은: 28\n",
            "1~100까지 정수의 합은: 36\n",
            "1~100까지 정수의 합은: 45\n",
            "1~100까지 정수의 합은: 55\n",
            "1~100까지 정수의 합은: 66\n",
            "1~100까지 정수의 합은: 78\n",
            "1~100까지 정수의 합은: 91\n",
            "1~100까지 정수의 합은: 105\n",
            "1~100까지 정수의 합은: 120\n",
            "1~100까지 정수의 합은: 136\n",
            "1~100까지 정수의 합은: 153\n",
            "1~100까지 정수의 합은: 171\n",
            "1~100까지 정수의 합은: 190\n",
            "1~100까지 정수의 합은: 210\n",
            "1~100까지 정수의 합은: 231\n",
            "1~100까지 정수의 합은: 253\n",
            "1~100까지 정수의 합은: 276\n",
            "1~100까지 정수의 합은: 300\n",
            "1~100까지 정수의 합은: 325\n",
            "1~100까지 정수의 합은: 351\n",
            "1~100까지 정수의 합은: 378\n",
            "1~100까지 정수의 합은: 406\n",
            "1~100까지 정수의 합은: 435\n",
            "1~100까지 정수의 합은: 465\n",
            "1~100까지 정수의 합은: 496\n",
            "1~100까지 정수의 합은: 528\n",
            "1~100까지 정수의 합은: 561\n",
            "1~100까지 정수의 합은: 595\n",
            "1~100까지 정수의 합은: 630\n",
            "1~100까지 정수의 합은: 666\n",
            "1~100까지 정수의 합은: 703\n",
            "1~100까지 정수의 합은: 741\n",
            "1~100까지 정수의 합은: 780\n",
            "1~100까지 정수의 합은: 820\n",
            "1~100까지 정수의 합은: 861\n",
            "1~100까지 정수의 합은: 903\n",
            "1~100까지 정수의 합은: 946\n",
            "1~100까지 정수의 합은: 990\n",
            "1~100까지 정수의 합은: 1035\n",
            "1~100까지 정수의 합은: 1081\n",
            "1~100까지 정수의 합은: 1128\n",
            "1~100까지 정수의 합은: 1176\n",
            "1~100까지 정수의 합은: 1225\n",
            "1~100까지 정수의 합은: 1275\n",
            "1~100까지 정수의 합은: 1326\n",
            "1~100까지 정수의 합은: 1378\n",
            "1~100까지 정수의 합은: 1431\n",
            "1~100까지 정수의 합은: 1485\n",
            "1~100까지 정수의 합은: 1540\n",
            "1~100까지 정수의 합은: 1596\n",
            "1~100까지 정수의 합은: 1653\n",
            "1~100까지 정수의 합은: 1711\n",
            "1~100까지 정수의 합은: 1770\n",
            "1~100까지 정수의 합은: 1830\n",
            "1~100까지 정수의 합은: 1891\n",
            "1~100까지 정수의 합은: 1953\n",
            "1~100까지 정수의 합은: 2016\n",
            "1~100까지 정수의 합은: 2080\n",
            "1~100까지 정수의 합은: 2145\n",
            "1~100까지 정수의 합은: 2211\n",
            "1~100까지 정수의 합은: 2278\n",
            "1~100까지 정수의 합은: 2346\n",
            "1~100까지 정수의 합은: 2415\n",
            "1~100까지 정수의 합은: 2485\n",
            "1~100까지 정수의 합은: 2556\n",
            "1~100까지 정수의 합은: 2628\n",
            "1~100까지 정수의 합은: 2701\n",
            "1~100까지 정수의 합은: 2775\n",
            "1~100까지 정수의 합은: 2850\n",
            "1~100까지 정수의 합은: 2926\n",
            "1~100까지 정수의 합은: 3003\n",
            "1~100까지 정수의 합은: 3081\n",
            "1~100까지 정수의 합은: 3160\n",
            "1~100까지 정수의 합은: 3240\n",
            "1~100까지 정수의 합은: 3321\n",
            "1~100까지 정수의 합은: 3403\n",
            "1~100까지 정수의 합은: 3486\n",
            "1~100까지 정수의 합은: 3570\n",
            "1~100까지 정수의 합은: 3655\n",
            "1~100까지 정수의 합은: 3741\n",
            "1~100까지 정수의 합은: 3828\n",
            "1~100까지 정수의 합은: 3916\n",
            "1~100까지 정수의 합은: 4005\n",
            "1~100까지 정수의 합은: 4095\n",
            "1~100까지 정수의 합은: 4186\n",
            "1~100까지 정수의 합은: 4278\n",
            "1~100까지 정수의 합은: 4371\n",
            "1~100까지 정수의 합은: 4465\n",
            "1~100까지 정수의 합은: 4560\n",
            "1~100까지 정수의 합은: 4656\n",
            "1~100까지 정수의 합은: 4753\n",
            "1~100까지 정수의 합은: 4851\n",
            "1~100까지 정수의 합은: 4950\n",
            "1~100까지 정수의 합은: 5050\n"
          ]
        }
      ]
    },
    {
      "cell_type": "code",
      "source": [
        "sum( list( range(1, 101, 1)))"
      ],
      "metadata": {
        "colab": {
          "base_uri": "https://localhost:8080/"
        },
        "id": "oY8nAvxACOj_",
        "outputId": "523342ac-7c33-4db1-d4f4-ff12c01d045d"
      },
      "execution_count": null,
      "outputs": [
        {
          "output_type": "execute_result",
          "data": {
            "text/plain": [
              "5050"
            ]
          },
          "metadata": {},
          "execution_count": 4
        }
      ]
    },
    {
      "cell_type": "code",
      "source": [
        "#실습문제 기보드로 정수 n 받아서 1~n까지 합 구하기\n",
        "\n",
        "n = input('합계를 구할 숫자를 입력하세요: ')\n",
        "if n.isdigit():  # 입력된 값이 숫자인지 확인\n",
        "    hap = 0\n",
        "    for i in range(1, int(n) + 1):\n",
        "        hap += i\n",
        "    print(f'1~{n}까지 정수의 합은: {hap}')\n",
        "else:\n",
        "    print('숫자를 입력해 주세요!')\n"
      ],
      "metadata": {
        "colab": {
          "base_uri": "https://localhost:8080/"
        },
        "id": "OHtd1na0GX8r",
        "outputId": "04d87d08-0377-4b76-bdb4-0ffd0ca7d614"
      },
      "execution_count": null,
      "outputs": [
        {
          "output_type": "stream",
          "name": "stdout",
          "text": [
            "합계를 구할 숫자를 입력하세요: 10\n",
            "1~10까지 정수의 합은: 55\n"
          ]
        }
      ]
    },
    {
      "cell_type": "code",
      "source": [
        "### [실습문제] 괄호 체크 프로그램 만들기\n",
        "\n",
        "a = list(input('괄호 문장을 입력하세요:'))\n",
        "print(a)\n",
        "\n",
        "t = 0 #괄호의 합\n",
        "for p in a:\n",
        "  print(p)\n",
        "\n",
        "if t == 0 :\n",
        "  print('True')\n",
        "else:\n",
        "  print('False')\n"
      ],
      "metadata": {
        "colab": {
          "base_uri": "https://localhost:8080/"
        },
        "id": "JUqWyqMoOkoI",
        "outputId": "9d940085-86bc-49a7-943b-311a33ab95d6"
      },
      "execution_count": null,
      "outputs": [
        {
          "output_type": "stream",
          "name": "stdout",
          "text": [
            "괄호 문장을 입력하세요:50\n",
            "['5', '0']\n",
            "5\n",
            "0\n",
            "True\n"
          ]
        }
      ]
    },
    {
      "cell_type": "code",
      "source": [
        "a_list = list(input('괄호 문장을 입력하세요: '))\n",
        "print(a_list)\n",
        "\n",
        "total = 0           # 괄호의 합\n",
        "for p in a_list:\n",
        "  if p == '(':\n",
        "    total += 1\n",
        "  elif p == ')':\n",
        "    total -= 1\n",
        "  if total < 0:\n",
        "    break\n",
        "\n",
        "if total == 0 :\n",
        "  print('결과: True')\n",
        "else:\n",
        "  print('결과: False')"
      ],
      "metadata": {
        "colab": {
          "base_uri": "https://localhost:8080/"
        },
        "id": "omiwTVTGS6Yy",
        "outputId": "a8dc3d68-3dfa-43bf-fd8a-7211cfdf23f9"
      },
      "execution_count": null,
      "outputs": [
        {
          "output_type": "stream",
          "name": "stdout",
          "text": [
            "괄호 문장을 입력하세요: 응\n",
            "['응']\n",
            "결과: True\n"
          ]
        }
      ]
    },
    {
      "cell_type": "code",
      "source": [
        "parentheses = input('괄호 문장을 입력하세요: ')\n",
        "\n",
        "total = 0\n",
        "for p in parentheses:\n",
        "    if p == '(':\n",
        "        total += 1\n",
        "    elif p == ')':\n",
        "        total -= 1\n",
        "        if total < 0:\n",
        "            break\n",
        "\n",
        "result = 'True' if total == 0 else 'False'\n",
        "print(f'결과: {result}')"
      ],
      "metadata": {
        "colab": {
          "base_uri": "https://localhost:8080/"
        },
        "id": "mQYPSTrPTG3M",
        "outputId": "9f762670-d26c-489e-c221-093d5ab57a2e"
      },
      "execution_count": null,
      "outputs": [
        {
          "output_type": "stream",
          "name": "stdout",
          "text": [
            "괄호 문장을 입력하세요: 가나다라\n",
            "결과: True\n"
          ]
        }
      ]
    },
    {
      "cell_type": "code",
      "source": [
        "###2~9단 숫자를 입력 받아 해당하는 단의 구구단을 출력해 보세여.\n",
        "\n",
        "\n",
        "\n",
        "\n",
        "def print_multiplication_table(n):\n",
        "    for i in range(1, 10):\n",
        "        print(f\"{n} x {i} = {n*i}\")\n",
        "\n",
        "# 출력할 구구단의 숫자를 입력하세요\n",
        "dan = int(input(\"출력할 구구단의 숫자를 입력하세요: \"))\n",
        "print_multiplication_table(dan)\n"
      ],
      "metadata": {
        "colab": {
          "base_uri": "https://localhost:8080/"
        },
        "id": "jhfja_yUT1as",
        "outputId": "3958b131-a1f7-4113-88ff-0cbe6a64f644"
      },
      "execution_count": null,
      "outputs": [
        {
          "output_type": "stream",
          "name": "stdout",
          "text": [
            "출력할 구구단의 숫자를 입력하세요: 5\n",
            "5 x 1 = 5\n",
            "5 x 2 = 10\n",
            "5 x 3 = 15\n",
            "5 x 4 = 20\n",
            "5 x 5 = 25\n",
            "5 x 6 = 30\n",
            "5 x 7 = 35\n",
            "5 x 8 = 40\n",
            "5 x 9 = 45\n"
          ]
        }
      ]
    },
    {
      "cell_type": "code",
      "source": [
        "dan = int(input(\"출력할 구구단의 숫자를 입력하세요: \"))\n",
        "\n",
        "print(f\"{dan}단 출력\")\n",
        "for i in range(1, 10):\n",
        "    result = dan * i\n",
        "    print(f\"{dan} x {i} = {result}\")"
      ],
      "metadata": {
        "colab": {
          "base_uri": "https://localhost:8080/"
        },
        "id": "XE7FIcVIUWmB",
        "outputId": "e42719bd-deff-4ce5-bc33-4e80210a26f9"
      },
      "execution_count": null,
      "outputs": [
        {
          "output_type": "stream",
          "name": "stdout",
          "text": [
            "출력할 구구단의 숫자를 입력하세요: 5\n",
            "5단 출력\n",
            "5 x 1 = 5\n",
            "5 x 2 = 10\n",
            "5 x 3 = 15\n",
            "5 x 4 = 20\n",
            "5 x 5 = 25\n",
            "5 x 6 = 30\n",
            "5 x 7 = 35\n",
            "5 x 8 = 40\n",
            "5 x 9 = 45\n"
          ]
        }
      ]
    },
    {
      "cell_type": "markdown",
      "source": [
        "##난수(Random Number)"
      ],
      "metadata": {
        "id": "8uOwjnM9tizn"
      }
    },
    {
      "cell_type": "code",
      "source": [
        "import random\n",
        "\n",
        "# 임의의 정수\n",
        "print(random.randint(1, 10))       #1~10까지 정수 중 하나를 설렉트\n",
        "print(random.randrange(1, 11, 1))  #1~11미만 정수 중 하나를 선택\n",
        "\n",
        "\n",
        "# 임의의 실수\n",
        "print(random.random())             #0~1 사이 임의의 실수\n",
        "print(random.uniform(0.5, 1))      #start~end 사이의 임의의 실수\n",
        "\n",
        "# 섞기\n",
        "a = [1,2,3,4,5,6,7,8,9,10]\n",
        "print(a)\n",
        "random.shuffle(a)\n",
        "print(a)"
      ],
      "metadata": {
        "colab": {
          "base_uri": "https://localhost:8080/"
        },
        "id": "WIMAF7ggthfl",
        "outputId": "6bcc527f-1768-4ea9-bf06-4987459e78f3"
      },
      "execution_count": null,
      "outputs": [
        {
          "output_type": "stream",
          "name": "stdout",
          "text": [
            "9\n",
            "3\n",
            "0.7127095228268123\n",
            "0.6504851364843994\n",
            "[1, 2, 3, 4, 5, 6, 7, 8, 9, 10]\n",
            "[7, 10, 6, 4, 3, 1, 9, 5, 2, 8]\n"
          ]
        }
      ]
    },
    {
      "cell_type": "code",
      "source": [
        "sorted(random.sample(range(1,46), 6))"
      ],
      "metadata": {
        "colab": {
          "base_uri": "https://localhost:8080/"
        },
        "id": "VgnimzqXyaU_",
        "outputId": "2108f9e3-605f-4f90-8b58-5d930d9bf005"
      },
      "execution_count": null,
      "outputs": [
        {
          "output_type": "execute_result",
          "data": {
            "text/plain": [
              "[1, 12, 17, 21, 27, 28]"
            ]
          },
          "metadata": {},
          "execution_count": 22
        }
      ]
    },
    {
      "cell_type": "markdown",
      "source": [
        "### [실습문제] 한 개의 주사위를 100번 던져서 나온 숫자 카운트하기.\n",
        "\n"
      ],
      "metadata": {
        "id": "A3Tw0rtM4vee"
      }
    },
    {
      "cell_type": "code",
      "source": [
        "import random\n",
        "\n",
        "d1, d2, d3, d4, d5, d6 = 0, 0, 0, 0, 0, 0\n",
        "for i in range(100):\n",
        "    num = random.randint(1, 6)\n",
        "    if num == 1:\n",
        "        d1 += 1\n",
        "    elif num == 2:\n",
        "        d2 += 1\n",
        "    elif num == 3:\n",
        "        d3 += 1\n",
        "    elif num == 4:\n",
        "        d4 += 1\n",
        "    elif num == 5:\n",
        "        d5 += 1\n",
        "    elif num == 6:\n",
        "        d6 += 1\n",
        "\n",
        "print(f'주사위 숫자별 개수: D1[{d1}], D2[{d2}], D3[{d3}], D4[{d4}], D5[{d5}], D6[{d6}]')"
      ],
      "metadata": {
        "colab": {
          "base_uri": "https://localhost:8080/"
        },
        "id": "aoEL_qoh6OWG",
        "outputId": "f9f21347-d2c0-469c-e1c4-3bafe3c95c59"
      },
      "execution_count": null,
      "outputs": [
        {
          "output_type": "stream",
          "name": "stdout",
          "text": [
            "주사위 숫자별 개수: D1[15], D2[20], D3[18], D4[21], D5[13], D6[13]\n"
          ]
        }
      ]
    },
    {
      "cell_type": "code",
      "source": [
        "import random\n",
        "\n",
        "dice = [0,0,0,0,0,0]\n",
        "for i in range(10):\n",
        "  num = random.randint(1,6)\n",
        "  dice[num-1] = dice[num-1] + 1\n",
        "  print(f'{i+1}회 시도 - 나온 수({num}), 주사위:{dice}')\n",
        "\n"
      ],
      "metadata": {
        "colab": {
          "base_uri": "https://localhost:8080/"
        },
        "id": "joIj5f2G7dmW",
        "outputId": "d4c1f961-88b6-4a26-84fd-e44628e75064"
      },
      "execution_count": null,
      "outputs": [
        {
          "output_type": "stream",
          "name": "stdout",
          "text": [
            "1회 시도 - 나온 수(5), 주사위:[0, 0, 0, 0, 1, 0]\n",
            "2회 시도 - 나온 수(5), 주사위:[0, 0, 0, 0, 2, 0]\n",
            "3회 시도 - 나온 수(6), 주사위:[0, 0, 0, 0, 2, 1]\n",
            "4회 시도 - 나온 수(1), 주사위:[1, 0, 0, 0, 2, 1]\n",
            "5회 시도 - 나온 수(3), 주사위:[1, 0, 1, 0, 2, 1]\n",
            "6회 시도 - 나온 수(2), 주사위:[1, 1, 1, 0, 2, 1]\n",
            "7회 시도 - 나온 수(6), 주사위:[1, 1, 1, 0, 2, 2]\n",
            "8회 시도 - 나온 수(5), 주사위:[1, 1, 1, 0, 3, 2]\n",
            "9회 시도 - 나온 수(1), 주사위:[2, 1, 1, 0, 3, 2]\n",
            "10회 시도 - 나온 수(6), 주사위:[2, 1, 1, 0, 3, 3]\n"
          ]
        }
      ]
    },
    {
      "cell_type": "code",
      "source": [
        "import random\n",
        "\n",
        "dice = [0,0,0,0,0,0]\n",
        "for i in range(100):\n",
        "  num = random.randint(1, 6)\n",
        "  dice[num-1] = dice[num-1] + 1\n",
        "  # print(f'{i+1}회 시도 - 나온 수({num}), 주사위:{dice}')\n",
        "\n",
        "print(f'주사위 숫자의 나온 횟수: {dice}')\n",
        "print(f'가장 큰 횟수: {max(dice)}의 주사위 눈금은: {dice.index( max(dice) )+1} ')"
      ],
      "metadata": {
        "colab": {
          "base_uri": "https://localhost:8080/"
        },
        "id": "y9fIHKSN-gF-",
        "outputId": "4c46dbb0-b080-4841-81ab-dcf53c5db005"
      },
      "execution_count": null,
      "outputs": [
        {
          "output_type": "stream",
          "name": "stdout",
          "text": [
            "주사위 숫자의 나온 횟수: [17, 12, 20, 15, 14, 22]\n",
            "가장 큰 횟수: 22의 주사위 눈금은: 6 \n"
          ]
        }
      ]
    },
    {
      "cell_type": "markdown",
      "source": [
        "###03. while 반복문\n"
      ],
      "metadata": {
        "id": "JYSYH3nq-96t"
      }
    },
    {
      "cell_type": "code",
      "source": [
        "hap = 0\n",
        "a, b = 0, 0\n",
        "\n",
        "while True :\n",
        "  a = int(input(\"더할 첫 번째 수를 입력하세요 : \"))\n",
        "  if a == 0 :\n",
        "    break\n",
        "  b = int(input(\"더할 두 번째 수를 입력하세요 : \"))\n",
        "  hap"
      ],
      "metadata": {
        "id": "Ypic9hzL_ChA"
      },
      "execution_count": null,
      "outputs": []
    },
    {
      "cell_type": "code",
      "source": [
        "treehit = 0\n",
        "\n",
        "while treehit < 10:\n",
        "    treehit += 1\n",
        "    print(f\"나무를 {treehit}번 찍었습니다.\")\n",
        "    if treehit == 10:\n",
        "        print(\"나무 넘어갑니다~\")"
      ],
      "metadata": {
        "colab": {
          "base_uri": "https://localhost:8080/"
        },
        "id": "KPROuz-WH1Wi",
        "outputId": "f6893693-5fd9-4ddb-fba3-94b24913c932"
      },
      "execution_count": null,
      "outputs": [
        {
          "output_type": "stream",
          "name": "stdout",
          "text": [
            "나무를 1번 찍었습니다.\n",
            "나무를 2번 찍었습니다.\n",
            "나무를 3번 찍었습니다.\n",
            "나무를 4번 찍었습니다.\n",
            "나무를 5번 찍었습니다.\n",
            "나무를 6번 찍었습니다.\n",
            "나무를 7번 찍었습니다.\n",
            "나무를 8번 찍었습니다.\n",
            "나무를 9번 찍었습니다.\n",
            "나무를 10번 찍었습니다.\n",
            "나무 넘어갑니다~\n"
          ]
        }
      ]
    },
    {
      "cell_type": "markdown",
      "source": [
        "###[실습문제] 무한반복 코드 빠져나오기"
      ],
      "metadata": {
        "id": "B6aoZBlqLkJh"
      }
    },
    {
      "cell_type": "code",
      "source": [
        "# 조건에 맞으면 프로그램 빠져 나오기\n",
        "prompt = \"\"\"\n",
        "    1.추가  2.삭제  3.수정  4.종료\n",
        "    해당하는 번호를 입력해주세요: \"\"\"\n",
        "num = ''\n",
        "while num != '4':\n",
        "    num = input(prompt)\n",
        "print('program finish!')"
      ],
      "metadata": {
        "colab": {
          "base_uri": "https://localhost:8080/"
        },
        "id": "9bNBAzNKLQV7",
        "outputId": "c4371074-d8d3-4081-a388-280dbd255e3d"
      },
      "execution_count": null,
      "outputs": [
        {
          "output_type": "stream",
          "name": "stdout",
          "text": [
            "\n",
            "    1.추가  2.삭제  3.수정  4.종료\n",
            "    해당하는 번호를 입력해주세요: 1\n",
            "\n",
            "    1.추가  2.삭제  3.수정  4.종료\n",
            "    해당하는 번호를 입력해주세요: 2\n",
            "\n",
            "    1.추가  2.삭제  3.수정  4.종료\n",
            "    해당하는 번호를 입력해주세요: 3\n",
            "\n",
            "    1.추가  2.삭제  3.수정  4.종료\n",
            "    해당하는 번호를 입력해주세요: 4\n",
            "program finish!\n"
          ]
        }
      ]
    },
    {
      "cell_type": "code",
      "source": [
        "# 조건에 맞으면 프로그램 빠져 나오기\n",
        "prompt = \"\"\"\n",
        "    1.추가  2.삭제  3.수정  4.종료\n",
        "    해당하는 번호를 입력해주세요: \"\"\"\n",
        "num = ''\n",
        "while True:\n",
        "    num = input(prompt)\n",
        "    if num == '4':break\n",
        "print('program finish!')"
      ],
      "metadata": {
        "colab": {
          "base_uri": "https://localhost:8080/"
        },
        "id": "KBT82wRjM3Q6",
        "outputId": "1b3c224e-bac7-468b-93b4-893091aea2a9"
      },
      "execution_count": null,
      "outputs": [
        {
          "output_type": "stream",
          "name": "stdout",
          "text": [
            "\n",
            "    1.추가  2.삭제  3.수정  4.종료\n",
            "    해당하는 번호를 입력해주세요: 1\n",
            "\n",
            "    1.추가  2.삭제  3.수정  4.종료\n",
            "    해당하는 번호를 입력해주세요: 2\n",
            "\n",
            "    1.추가  2.삭제  3.수정  4.종료\n",
            "    해당하는 번호를 입력해주세요: 5\n",
            "\n",
            "    1.추가  2.삭제  3.수정  4.종료\n",
            "    해당하는 번호를 입력해주세요: 3\n",
            "\n",
            "    1.추가  2.삭제  3.수정  4.종료\n",
            "    해당하는 번호를 입력해주세요: 6\n",
            "\n",
            "    1.추가  2.삭제  3.수정  4.종료\n",
            "    해당하는 번호를 입력해주세요: 8\n",
            "\n",
            "    1.추가  2.삭제  3.수정  4.종료\n",
            "    해당하는 번호를 입력해주세요: 1\n",
            "\n",
            "    1.추가  2.삭제  3.수정  4.종료\n",
            "    해당하는 번호를 입력해주세요: 2\n",
            "\n",
            "    1.추가  2.삭제  3.수정  4.종료\n",
            "    해당하는 번호를 입력해주세요: 3\n",
            "\n",
            "    1.추가  2.삭제  3.수정  4.종료\n",
            "    해당하는 번호를 입력해주세요: 4\n",
            "program finish!\n"
          ]
        }
      ]
    },
    {
      "cell_type": "code",
      "source": [
        "coffee1_price = 2500\n",
        "coffee2_price = 3000\n",
        "coffee3_price = 3000\n",
        "menu = f'''[커피 자동주문 머신 메뉴]\n",
        "------------------------\n",
        "- 아메리카노:  {coffee1_price}원\n",
        "- 카페라떼:    {coffee2_price}원\n",
        "- 카푸치노:    {coffee3_price}원\n",
        "------------------------\n",
        "원하시는 커피종류와 잔수를 입력하세요!\n",
        "'''\n",
        "print(menu)\n",
        "coffee1 = int(input('아메리카노 몇 잔: '))\n",
        "coffee2 = int(input('카페라떼   몇 잔: '))\n",
        "coffee3 = int(input('카푸치노   몇 잔: '))\n",
        "total = coffee1_price * coffee1 + coffee2_price * coffee2 + coffee3_price * coffee3\n",
        "print(f'주문하신 총 가격은 {total}원 입니다.')\n",
        "\n",
        "while True:\n",
        "    money = int(input('돈을 입력해주세요: '))\n",
        "    change = total - money\n",
        "    total = change\n",
        "    if change > 0:\n",
        "        print(f'입력한 금액이 부족합니다.{total - money}원을 더 넣어주세요.')\n",
        "    else:\n",
        "        print(f'거스름돈은 {abs(change)}원 입니다. 커피 맛있게 드세요~')\n",
        "        break"
      ],
      "metadata": {
        "colab": {
          "base_uri": "https://localhost:8080/"
        },
        "id": "jWwnewhiOLM-",
        "outputId": "8e55480d-36c3-4263-99fa-a135e3e13acf"
      },
      "execution_count": null,
      "outputs": [
        {
          "output_type": "stream",
          "name": "stdout",
          "text": [
            "[커피 자동주문 머신 메뉴]\n",
            "------------------------\n",
            "- 아메리카노:  2500원\n",
            "- 카페라떼:    3000원\n",
            "- 카푸치노:    3000원\n",
            "------------------------\n",
            "원하시는 커피종류와 잔수를 입력하세요!\n",
            "\n",
            "아메리카노 몇 잔: 1\n",
            "카페라떼   몇 잔: 1\n",
            "카푸치노   몇 잔: 1\n",
            "주문하신 총 가격은 8500원 입니다.\n",
            "돈을 입력해주세요: 7000\n",
            "입력한 금액이 부족합니다.-5500원을 더 넣어주세요.\n",
            "돈을 입력해주세요: 1000\n",
            "입력한 금액이 부족합니다.-500원을 더 넣어주세요.\n",
            "돈을 입력해주세요: 1000\n",
            "거스름돈은 500원 입니다. 커피 맛있게 드세요~\n"
          ]
        }
      ]
    }
  ]
}